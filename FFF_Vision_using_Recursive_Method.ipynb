{
 "cells": [
  {
   "cell_type": "markdown",
   "id": "3209ac45",
   "metadata": {
    "id": "3209ac45"
   },
   "source": [
    "# FFF Vision Using Recursive Function\n"
   ]
  },
  {
   "cell_type": "code",
   "execution_count": null,
   "id": "0b53245f",
   "metadata": {
    "colab": {
     "base_uri": "https://localhost:8080/"
    },
    "id": "0b53245f",
    "outputId": "de072d3d-fe07-46ff-c82f-0f22932c8f90"
   },
   "outputs": [],
   "source": [
    "#Importing all necessary packages.\n",
    "import numpy as np\n",
    "import cv2\n",
    "print('OpenCV version: '+cv2.__version__)\n",
    "import pandas as pd\n",
    "import datetime\n",
    "import os\n",
    "import time\n",
    "import re "
   ]
  },
  {
   "cell_type": "code",
   "execution_count": null,
   "id": "4f62725f",
   "metadata": {},
   "outputs": [],
   "source": [
    "#used for time calculation.\n",
    "start = time.perf_counter()\n",
    "#Reading the folder where the videos are saved.\n",
    "SRC_FOLDER = r\"D:\\Pensulvaniya state project\\FFF Vision - OpenCV [External]\\Vidseos\\\\\"\n",
    "#reading the vieo_Time_Stamp from device.\n",
    "df_vidTimes = pd.read_excel(SRC_FOLDER + \"Video_Timestamps_1.xlsx\")\n",
    "df_vidTimes.drop(df_vidTimes.columns[0],axis=1,inplace=True)"
   ]
  },
  {
   "cell_type": "markdown",
   "id": "4e6261d4",
   "metadata": {
    "id": "4e6261d4"
   },
   "source": [
    "Image Processing Steps:\n",
    "\n",
    "Perspective Correction -> Binary Thershold -> Morphological Operations -> Median Blur Operations -> Canny Edge detection ->ROI Selection"
   ]
  },
  {
   "cell_type": "code",
   "execution_count": null,
   "id": "d77b5f06",
   "metadata": {
    "id": "d77b5f06"
   },
   "outputs": [],
   "source": [
    "#Function for image perspective correction.\n",
    "def perspCorrection(img,pt1,pt2,pt3,pt4,scale_width,scale_height):\n",
    "    \n",
    "    \n",
    "    input_pts = np.float32([pt1,pt2,pt3,pt4])\n",
    "    output_pts = np.float32([[0,0],[scale_width-1,0],[0,scale_height-1],[scale_width-1,scale_height-1]])\n",
    "    M = cv2.getPerspectiveTransform(input_pts,output_pts)\n",
    "    #saves the perspective corrected image to a varibale.\n",
    "    imgPersp = cv2.warpPerspective(img,M,(scale_width, scale_height))\n",
    "    #grayscale conversion.\n",
    "    imgGrayPersp = cv2.cvtColor(imgPersp, cv2.COLOR_BGR2GRAY)            \n",
    "    \n",
    "    return [imgPersp,imgGrayPersp]\n"
   ]
  },
  {
   "cell_type": "code",
   "execution_count": null,
   "id": "a332c1e7",
   "metadata": {
    "id": "a332c1e7"
   },
   "outputs": [],
   "source": [
    "#function for binary thersholding\n",
    "def thersold_fun(thersholded):\n",
    "    thersholded = cv2.threshold(thersholded, 127, 255, cv2.THRESH_BINARY)[1]\n",
    "    return thersholded"
   ]
  },
  {
   "cell_type": "code",
   "execution_count": null,
   "id": "146d176e",
   "metadata": {
    "id": "146d176e"
   },
   "outputs": [],
   "source": [
    "#function for morphological operations.\n",
    "\n",
    "def morphOps(medianblr):    \n",
    "    #erosion and dilation\n",
    "    mask_erosion = cv2.erode(medianblr, np.ones((8, 0), \"uint8\"))\n",
    "    mask_dilation = cv2.dilate(mask_erosion, np.ones((32, 0), \"uint8\"))\n",
    "    return mask_dilation"
   ]
  },
  {
   "cell_type": "code",
   "execution_count": null,
   "id": "87edcba8",
   "metadata": {
    "id": "87edcba8"
   },
   "outputs": [],
   "source": [
    "#function for median bluring.\n",
    "def medianBlur(imgGrayPersp):\n",
    "\n",
    "    mblur = cv2.medianBlur(imgGrayPersp, 9)\n",
    "    return mblur"
   ]
  },
  {
   "cell_type": "code",
   "execution_count": null,
   "id": "f156c435",
   "metadata": {
    "id": "f156c435"
   },
   "outputs": [],
   "source": [
    "#function for canny edge detection\n",
    "threshold_1 =30\n",
    "threshold_2 = 80\n",
    "def canny(cloperation,threshold_1, threshold_2):\n",
    "\n",
    "    canny_image = cv2.Canny(cloperation,threshold_1, threshold_2) \n",
    "    return canny_image"
   ]
  },
  {
   "cell_type": "code",
   "execution_count": null,
   "id": "7e8be223",
   "metadata": {
    "id": "7e8be223"
   },
   "outputs": [],
   "source": [
    "#extracting ROI from edge detected image.\n",
    "def extractTopBottom(img,bStart,bEnd):\n",
    "   \n",
    "    img_bottom = img[bStart[1]:bEnd[1],bStart[0]:bEnd[0]]      \n",
    "    \n",
    "    return img_bottom"
   ]
  },
  {
   "cell_type": "code",
   "execution_count": null,
   "id": "7a6f6976",
   "metadata": {
    "id": "7a6f6976"
   },
   "outputs": [],
   "source": [
    "#function for computing extrusion width\n",
    "\n",
    "def computeW(canny,mm_per_pixel,imgGrayPersp):\n",
    "    \n",
    "    indices = np.where(canny != [0])\n",
    "    LEdge = np.mean(indices[1][::2])\n",
    "    REdge = np.mean(indices[1][1::2])\n",
    "    widths = np.abs(REdge-LEdge)\n",
    "    width_in_mm = mm_per_pixel * widths\n",
    "    \n",
    "    text = str(width_in_mm) + ' mm'\n",
    "    font = cv2.FONT_HERSHEY_SIMPLEX\n",
    "    org = (50,50)\n",
    "    fontScale = 1\n",
    "    color = (255, 0, 0)\n",
    "    thickness = 2\n",
    "    img_color = cv2.putText(imgGrayPersp, text, org, font,fontScale, color, thickness)\n",
    "         \n",
    "    return [widths, width_in_mm,img_color]"
   ]
  },
  {
   "cell_type": "code",
   "execution_count": null,
   "id": "54d52e6b",
   "metadata": {
    "id": "54d52e6b"
   },
   "outputs": [],
   "source": [
    "# Remove # for below code to save the path of folder in which images for analysis is to be saved\n",
    "imganalysis_path = SRC_FOLDER + \"Results/Run-2\"\n",
    "\n",
    "#function for storing images for analysis, need to call this function from recursive function.\n",
    "\n",
    "def image_for_analysis(imganalysis_path,layers,speeds,imgGrayPersp,thersholded_image,medianblr,cloperation,canny_image,bottom_image,frameCount,imgcolor):\n",
    "    \n",
    "    #for storing perspective corrected grayscale images.\n",
    "    cv2.imwrite(imganalysis_path + '/' + str(layers) + \"/\" + str(speeds) + \"/Gray/\" +  \"pCorr\" + str(frameCount) + \".jpg\", imgGrayPersp)\n",
    "    \n",
    "    #for storing thersholded images.                       \n",
    "    cv2.imwrite(imganalysis_path +  '/' + str(layers) + \"/\" + str(speeds) + \"/Thresholded Images/\" + \"thresh\" + str(frameCount) + \".jpg\", thersholded_image)\n",
    "    \n",
    "    #for storing output images of  median blur function.                     \n",
    "    cv2.imwrite(imganalysis_path +  '/' + str(layers) + \"/\" + str(speeds) + \"/median blur/\" + \"medianblur\" + str(frameCount) + \".jpg\", medianblr)\n",
    "    \n",
    "    #for storing output images of  morphological operations(dilation and erosion).                     \n",
    "    cv2.imwrite(imganalysis_path +  '/' + str(layers) + \"/\" + str(speeds) + \"/Erosion and Dilation/\" + \"morphOps\" + str(frameCount) + \".jpg\", cloperation)\n",
    "    \n",
    "    #for storing canny images with detected edges.                         \n",
    "    cv2.imwrite(imganalysis_path +  '/' + str(layers) + \"/\" + str(speeds) + \"/Canny/\" + \"Canny\" + str(frameCount) + \".jpg\", canny_image)\n",
    "    \n",
    "    #for storing the ROI selected images.                        \n",
    "    cv2.imwrite(imganalysis_path +  '/' + str(layers) + \"/\" + str(speeds) + \"/ROI/\" + \"ROI\" + str(frameCount) + \".jpg\", bottom_image)    \n",
    "    \n",
    "    #for storing the images with labeled width measures.\n",
    "    cv2.imwrite(imganalysis_path +  '/' + str(layers) + \"/\" + str(speeds) + \"/Vision Measurements/\" + \"wImg\" + str(frameCount) + \".jpg\", imgcolor)\n",
    "    \n",
    "    return None\n",
    "#This function returns nothing since it only save images to respective folders in system.\n",
    "#There should be image folders as mentioned in the save_path"
   ]
  },
  {
   "cell_type": "code",
   "execution_count": null,
   "id": "9f469e35",
   "metadata": {
    "id": "9f469e35"
   },
   "outputs": [],
   "source": [
    "#function for calculation starting and ending time of videos\n",
    "def timestamp(layer,speed):\n",
    "\n",
    "    idx = df_vidTimes.index[(df_vidTimes.Layer==int(layer)) & (df_vidTimes.Speed==int(speed))].to_list()[0]\n",
    "    start_TS = df_vidTimes.Start_Timestamp[idx]\n",
    "    end_TS = df_vidTimes.End_Timestamp[idx]\n",
    "    return[start_TS,end_TS]"
   ]
  },
  {
   "cell_type": "code",
   "execution_count": null,
   "id": "22c663e3",
   "metadata": {
    "id": "22c663e3"
   },
   "outputs": [],
   "source": [
    "#reading the file names as a list then getting the speed and layer details alone from the video names.\n",
    "dir_list = os.listdir(SRC_FOLDER)\n",
    "lst1 = list(map(lambda x: x.replace('.avi', ''), dir_list))\n",
    "lst1 = list(map(lambda x: x.replace('vid_l', ''), lst1))\n",
    "lst1 = list(map(lambda x: x.replace('_vR', ''), lst1))\n",
    "speed_skipp_frames = list(map(lambda x: x.replace('10', '32'), lst1))\n",
    "speed_skipp_frames = list(map(lambda x: x.replace('20', '20'), speed_skipp_frames))\n",
    "speed_skipp_frames = list(map(lambda x: x.replace('30', '11'), speed_skipp_frames))\n",
    "speed_skipp_frames = list(map(lambda x: x.replace('40', '15'), speed_skipp_frames))\n",
    "speed_skipp_frames = list(map(lambda x: x.replace('50', '13'), speed_skipp_frames))\n",
    "speed_skipp_frames = list(map(lambda x: x.rsplit(\"_\"), speed_skipp_frames))\n",
    "\n"
   ]
  },
  {
   "cell_type": "code",
   "execution_count": null,
   "id": "5bcca741",
   "metadata": {
    "id": "5bcca741"
   },
   "outputs": [],
   "source": [
    "#Main program\n",
    "num_layers = 20\n",
    "max_speed = 50\n",
    "layers = list(range(5,num_layers+1))\n",
    "speeds = list(range(10,max_speed+10,10))\n",
    "frame_skip_start = [32,20,11,15,13] \n",
    "\n",
    "vidCount = 0\n",
    "img_debug = False \n",
    "\n",
    "w_result_columns=['Layer','vR','Frame','ActualTimestamp','Edge Distance in Pixel','w_Vision']\n",
    "frame_summary_columns = ['Layer','vR','Start_TS','End_TS','Total_Frames','Per_Frames_Skipped','Skipped_Frames']\n",
    "lst = []\n",
    "lst_skip_frames = []\n",
    "lst_frame_summary = []\n",
    "\n",
    "pt1 = [192.30,343.00]  \n",
    "pt2 = [1079.0,379.80]  \n",
    "pt3 = [153.50,571.90] \n",
    "pt4 = [1107.10,611.70] \n",
    "\n",
    "scale_width = round(11.7348*200) \n",
    "scale_height = round(6.35*200)   \n",
    "\n",
    "bStart = [655,925]\n",
    "bEnd = [1300,1270]\n",
    "fsize =9\n",
    "threshold_1 =30\n",
    "threshold_2 = 80\n",
    "mm_per_pixel = 0.004992138364779874\n",
    "\n",
    "#Defining the recursive function\n",
    "def Recursive_function(i):\n",
    "    \n",
    "    if(i< len(dir_list)):\n",
    "        lst = []\n",
    "        \n",
    "        vidName = dir_list[i]\n",
    "        srcVideo = SRC_FOLDER + vidName\n",
    "        layer = re.search('_l(.*)_v',dir_list[i]).group(1)\n",
    "        speed = re.search('R_(.*).a',dir_list[i]).group(1)        \n",
    "        [start_TS,end_TS] = timestamp(layer,speed)\n",
    "        print('video: {0} starts at {1} and ends at {2}'.format(vidName,start_TS,end_TS))\n",
    "        cap = cv2.VideoCapture(srcVideo)\n",
    "        numFrames = cap.get(cv2.CAP_PROP_FRAME_COUNT)\n",
    "\n",
    "        if (cap.isOpened() == False):\n",
    "            print(\"Error reading video file. Exiting ...\")\n",
    "            exit(0)\n",
    "        \n",
    "        frameCount = 0\n",
    "\n",
    "        while(cap.isOpened()):\n",
    "            frame_exists, frame = cap.read()\n",
    "               \n",
    "               \n",
    "            if frame_exists:\n",
    "                \n",
    "                frameCount = frameCount + 1\n",
    "                \n",
    "\n",
    "                if(frameCount >= int(speed_skipp_frames[i][1]) and frameCount <= numFrames - 5): \n",
    "                    \n",
    "                    try:\n",
    "                                               \n",
    "\n",
    "                        # call function - correct perspective transform\n",
    "                        [imgPersp,imgGrayPersp] = perspCorrection(frame,pt1,pt2,pt3,pt4,scale_width,scale_height)\n",
    "#                         cv2.imshow(\"image\",imgGrayPersp)\n",
    "#                         cv2.waitKey(0)\n",
    "                        #thersholding image using thresh.binary function\n",
    "                        thersholded_image = thersold_fun(imgGrayPersp)\n",
    "#                         cv2.imshow(\"image\",thersholded_image)\n",
    "#                         cv2.waitKey(0)\n",
    "                        #closing operation\n",
    "                        cloperation = morphOps(thersholded_image)\n",
    "#                         cv2.imshow(\"image\",cloperation)\n",
    "#                         cv2.waitKey(0)\n",
    "                        #medianblur\n",
    "                        medianblr = medianBlur(cloperation)\n",
    "                        #Canny detection\n",
    "                        canny_image= canny(medianblr,threshold_1, threshold_2)\n",
    "                        #ROI selection\n",
    "                        bottom_image = extractTopBottom(canny_image,bStart,bEnd)\n",
    "                        # Extrusion width measurement\n",
    "                        [bottom_edge_pixels,bottom_edge_dist,img_color] = computeW(bottom_image,mm_per_pixel,imgGrayPersp) \n",
    "                                                \n",
    "                        #Remove Comment line for below code , if images needs to be saved for analysing.\n",
    "                        #image_for_analysis(imganalysis_path,str(layers[l]),str(speeds[v]),imgGrayPersp,thersholded_image,medianblr,cloperation,canny_image,bottom_image,frameCount,imgcolor)\n",
    "\n",
    "                        # Calculate actual timestamp based on excel timestamps and frame number\n",
    "                        act_TS = start_TS+frameCount*(end_TS-start_TS)/numFrames\n",
    "\n",
    "                        # Store results in dataframe   \n",
    "                        lst.append([int(layer),int(speed),frameCount,act_TS,bottom_edge_pixels,bottom_edge_dist])\n",
    "                        \n",
    "\n",
    "                        \n",
    "                    except ValueError as e:\n",
    "                        \n",
    "                        print('Unable to sucessfully process frame {0}, skipping . . .'.format(frameCount))\n",
    "                        print(e)\n",
    "                        # Calculate actual timestamp based on excel timestamps and frame number\n",
    "                        act_TS = start_TS+frameCount*(end_TS-start_TS)/numFrames\n",
    "                        # Store results in dataframe   \n",
    "                        lst.append([int(layer),int(speed),frameCount,act_TS,np.nan,np.nan])\n",
    "                        lst_skip_frames.append([frameCount])\n",
    "\n",
    "                    except UnboundLocalError as u:\n",
    "                        print('Unable to sucessfully process frame {0}, skipping . . .'.format(frameCount))\n",
    "                        print(u)\n",
    "                        # Calculate actual timestamp based on excel timestamps and frame number\n",
    "                        act_TS = start_TS+frameCount*(end_TS-start_TS)/numFrames\n",
    "                        # Store results in dataframe   \n",
    "                        lst.append([int(layer),int(speed),frameCount,act_TS,np.nan,np.nan])\n",
    "                        lst_skip_frames.append([frameCount])\n",
    "\n",
    "            else:\n",
    "                \n",
    "                break       \n",
    "                   \n",
    "        cap.release()\n",
    "        cv2.destroyAllWindows()\n",
    "        \n",
    "        print('Finished processing video: {0}'.format(vidName))\n",
    "        print('')\n",
    "        print('')   \n",
    "        results = pd.DataFrame(lst,columns=w_result_columns)\n",
    "        \n",
    "        # Save results to csv\n",
    "        path = SRC_FOLDER + \"Results/Run-2/\" + 'l' + str(layers[l])+'_vR'+str(speeds[v])+\"results1.csv\"\n",
    "        results.to_csv(path)\n",
    "        \n",
    "        #appending details for final summary excel.\n",
    "        lst_frame_summary.append([int(layer),int(speed),start_TS,end_TS,numFrames,len(lst_skip_frames)/numFrames,lst_skip_frames])\n",
    "        i = i+1\n",
    "        Recursive_function(i)"
   ]
  },
  {
   "cell_type": "code",
   "execution_count": null,
   "id": "6c763ea2",
   "metadata": {
    "colab": {
     "base_uri": "https://localhost:8080/"
    },
    "id": "6c763ea2",
    "outputId": "de67e0e9-7563-4db6-d47d-c372a0124829",
    "scrolled": true
   },
   "outputs": [],
   "source": [
    "#calling recursive function\n",
    "i =0\n",
    "Recursive_function(i)\n",
    "\n",
    "#converting to Dataframe\n",
    "frame_summary_results = pd.DataFrame(lst_frame_summary,columns=frame_summary_columns)\n",
    "\n",
    "# Some more cleanup and data addition\n",
    "frame_summary_results[\"Video_Duration\"] = frame_summary_results[\"End_TS\"] - frame_summary_results[\"Start_TS\"] \n",
    "frame_summary_results[\"Video_Duration\"] = [x.total_seconds() for x in frame_summary_results[\"Video_Duration\"]]\n",
    "frame_summary_results[\"FPS\"] = frame_summary_results[\"Total_Frames\"]/frame_summary_results[\"Video_Duration\"]\n",
    "frame_summary_results[\"Total_Frames_Skipped\"] = [len(x) for x in frame_summary_results[\"Skipped_Frames\"]]\n",
    "\n",
    "# Re-oder columns\n",
    "frame_summary_results = frame_summary_results[[\"Layer\",\"vR\",\"Start_TS\",\"End_TS\",\"Video_Duration\",\"Total_Frames\",\"FPS\",\"Total_Frames_Skipped\",\"Per_Frames_Skipped\",\"Skipped_Frames\"]]\n",
    "\n",
    "#Writing to CSV\n",
    "path_summary = SRC_FOLDER + \"Results/Run-2/\"+ 'video_processing_summary.csv'\n",
    "frame_summary_results.to_csv(path_summary)\n",
    "    \n",
    "print('Processing of all videos completed successfully!\\nSummary results saved at {0}'.format(summary_path))\n",
    "end = time.perf_counter() - start\n",
    "print('{:.6f}s for the calculation'.format(end))"
   ]
  },
  {
   "cell_type": "code",
   "execution_count": null,
   "id": "LU40PyNVUH7F",
   "metadata": {
    "id": "LU40PyNVUH7F"
   },
   "outputs": [],
   "source": []
  }
 ],
 "metadata": {
  "accelerator": "GPU",
  "colab": {
   "provenance": []
  },
  "gpuClass": "standard",
  "kernelspec": {
   "display_name": "Python 3",
   "language": "python",
   "name": "python3"
  },
  "language_info": {
   "codemirror_mode": {
    "name": "ipython",
    "version": 3
   },
   "file_extension": ".py",
   "mimetype": "text/x-python",
   "name": "python",
   "nbconvert_exporter": "python",
   "pygments_lexer": "ipython3",
   "version": "3.8.8"
  },
  "vscode": {
   "interpreter": {
    "hash": "29a82d12d14dcb997693ed4527530de1a8a184a05e45a53f34d76fe516b426d9"
   }
  }
 },
 "nbformat": 4,
 "nbformat_minor": 5
}
